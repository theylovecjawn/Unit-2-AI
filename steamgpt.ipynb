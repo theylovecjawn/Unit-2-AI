{
 "cells": [
  {
   "cell_type": "code",
   "execution_count": 1,
   "metadata": {},
   "outputs": [
    {
     "name": "stderr",
     "output_type": "stream",
     "text": [
      "2023-12-19 10:41:20.010344: I tensorflow/compiler/mlir/mlir_graph_optimization_pass.cc:388] MLIR V1 optimization pass is not enabled\n"
     ]
    },
    {
     "name": "stdout",
     "output_type": "stream",
     "text": [
      "Loading checkpoint checkpoint/steamcenter/model-141\n",
      "INFO:tensorflow:Restoring parameters from checkpoint/steamcenter/model-141\n",
      "Loading dataset...\n"
     ]
    },
    {
     "name": "stderr",
     "output_type": "stream",
     "text": [
      "100%|██████████| 1/1 [00:00<00:00, 1174.88it/s]"
     ]
    },
    {
     "name": "stdout",
     "output_type": "stream",
     "text": [
      "dataset has 3151 tokens\n",
      "Training...\n"
     ]
    },
    {
     "name": "stderr",
     "output_type": "stream",
     "text": [
      "\n"
     ]
    },
    {
     "name": "stdout",
     "output_type": "stream",
     "text": [
      "[142 | 17.47] loss=0.02 avg=0.02\n",
      "[143 | 34.13] loss=0.01 avg=0.02\n",
      "[144 | 48.99] loss=0.02 avg=0.02\n",
      "[145 | 63.34] loss=0.02 avg=0.02\n",
      "[146 | 77.80] loss=0.01 avg=0.02\n",
      "[147 | 92.29] loss=0.02 avg=0.02\n",
      "[148 | 106.80] loss=0.01 avg=0.02\n",
      "[149 | 121.22] loss=0.02 avg=0.02\n",
      "[150 | 135.88] loss=0.02 avg=0.02\n",
      "[151 | 150.08] loss=0.02 avg=0.02\n",
      "[152 | 164.36] loss=0.02 avg=0.02\n",
      "[153 | 178.60] loss=0.01 avg=0.02\n",
      "[154 | 192.83] loss=0.01 avg=0.02\n",
      "[155 | 207.00] loss=0.01 avg=0.02\n",
      "[156 | 221.27] loss=0.01 avg=0.02\n",
      "[157 | 236.27] loss=0.01 avg=0.02\n",
      "[158 | 250.99] loss=0.01 avg=0.02\n",
      "[159 | 265.43] loss=0.01 avg=0.01\n",
      "[160 | 279.95] loss=0.01 avg=0.01\n",
      "[161 | 294.33] loss=0.01 avg=0.01\n",
      "Saving checkpoint/steamcenter/model-161\n"
     ]
    }
   ],
   "source": [
    "import gpt_2_simple as gpt2\n",
    "\n",
    "session = gpt2.start_tf_sess()\n",
    "gpt2.finetune(\n",
    "    session, \"steamcenter.txt\", model_name=\"124M\", steps=20, run_name=\"steamcenter\")"
   ]
  },
  {
   "cell_type": "code",
   "execution_count": 2,
   "metadata": {},
   "outputs": [
    {
     "name": "stdout",
     "output_type": "stream",
     "text": [
      "Q = Where is the STEAM center located?\n",
      "A = The STEAM center is located on the Brooklyn Navy Yard, which is geographically separate from all of our partner high schools. Scholars in our program spend half of their school day with us and the other half at their home high school. We provide complimentary yellow bus shuttles during the middle of the day for scholars to travel between the two locations to ensure punctuality and avoid harsh weather.\n",
      "\n",
      "Q = How does this impact my high school graduation requirements?\n",
      "A = Our CTE Programs actually enable scholars to reduce their required 6 credits of LOTE (Language Other Than English) to 2 credits. In addition, we provide 13 elective credits (five more than required) on a scholar’s transcript that will heighten their GPA and stand out to colleges. In addition, we offer a bonus credit course for our internship program. Furthermore, scholars qualify for advanced annotations on their high school diplomas for the successful completion of our program.\n",
      "\n",
      "Q = This sounds great, but how much does it cost?\n",
      "A = The Brooklyn STEAM Center is operated by the New York City Department of Education, therefore as a public school, there is NO cost for scholars to attend. We cover the cost of all equipment, supplies, and fees.\n",
      "\n",
      "Q = How can I find out more about the Brooklyn STEAM Center?\n",
      "A = A typical first step is to speak to your school’s counselor. Scholars accepted into the cohort will be able to visit the Brooklyn STEAM Center, once in Grade 9 and again in Grade 10, for specific guided tours. In addition, we offer exploratory opportunities for potential applicants to ‘try it on’ with our instructors during Grade 10. We also conduct a Brooklyn Navy Yard tour to meet our business partners in Grade 9. Private tours are available upon request.\n",
      "\n",
      "Q = Do I need to be a certain “type” of student to be accepted?\n",
      "A = No. We accept students from all eight of our partner schools in an unbiased manner. We do not screen based on grades, demographics, special education, or language proficiency status. If you have concerns about a specific scholar limitation and being able to participate please let us know, we believe that anyone can learn!\n",
      "\n",
      "Q = Can Grade 11/12 students apply to the Brooklyn STEAM Center? \n",
      "A = Usually, the answer to this question would be “No”. However, with proper advocacy and support from the partner high school, there may be opportunities for scholars to enter as a Year 2 student based on availability.\n",
      "\n",
      "Q = Beyond the coursework, what else does the Brooklyn STEAM Center provide?\n",
      "A = Scholars are eligible for paid internships with one of our industry partners, prior learning credits and/or priority admission with our partner colleges, access to free testing for industry-recognized credentials, and a supportive community that is built around working with our scholars for their future.\n",
      "\n",
      "Q = How/When do I decide which CTE pathway I want to study? Can I choose more than one?\n",
      "A = You will rank all of the CTE Programs on the supplemental application that you will complete near the end of Grade 10. Scholars typically attain their first choice. Unfortunately, our programs are designed for two full years of instruction, which means you can only enroll in one program.\n",
      "\n",
      "Q = How will I know that I was accepted? Is there an orientation?\n",
      "A = The scholar, identified parent/guardian, and the respective school counselor will receive an email notification that you have been accepted that will also identify the appropriate CTE program that you can either accept or decline. Accepted scholars and their families will be invited to an orientation.\n",
      "\n",
      "Q = What should I do if I have any questions or concerns?\n",
      "A = We have two recommendations, speak to your home high school counselor and/or email our admissions director.\n",
      "\n",
      "Q = Although I’ve graduated, can you still help me with “X”?\n",
      "A = We say, “Once STEAM, Always STEAM”, so please reach out and we will link you with a member of our team or a support service to assist you in solving your problem.\n",
      "\n",
      "Q = Does the Brooklyn STEAM Center offer anything for alumni?\n",
      "A = Yes, we want to hear from you and keep in touch, we host semi-annual alumni events, and share updates through our alumni email distribution group.\n",
      "\n",
      "Q = Can I keep learning with the Brooklyn STEAM Center as an alumni/adult?\n",
      "A = Certainly, check in with our alumni messages, which will include details about continuing education opportunities at STEAM and our partners.\n",
      "\n",
      "Q = What are the STEAM partner schools?\n",
      "A = MECPS, Bedford Academy, STAR, Global, Science skills, Westing House\n",
      "\n",
      "Q = What are the STEAM pathways?\n",
      "A = F&M, FSD\n"
     ]
    }
   ],
   "source": [
    "gpt2.generate(session, prefix=\"Q = Where is the STEAM center located?\")"
   ]
  },
  {
   "cell_type": "code",
   "execution_count": 5,
   "metadata": {},
   "outputs": [
    {
     "name": "stdout",
     "output_type": "stream",
     "text": [
      "Q = Who is the FSD Teacher?\n",
      "A = Mr. Meeks, I want to spend a whole day with you to really learn about your model, is something like that possible?\n",
      "A = Inspiration visits are possible, for individuals and teams, which can span several hours or days. Please reach out to us so that we can collaborate on bringing that vision to life.\n",
      "\n",
      "Q = Is there a fee for these explorations?\n",
      "A = It depends, we want to share our model as much as we can, and based on our conversation about collaboration, deep engagements may have a small fee. Rest assured these funds are used to add to our scholar compensation fund for our internship program.\n",
      "\n",
      "Q = When do the Brooklyn STEAM Center programs occur?\n",
      "A = The Brooklyn STEAM Center programs occur during the regular school day, in the morning for Year 2 scholars and in the afternoon for Year 1 scholars. We operate the same days as the partner high school, offering instruction five days a week for 2.5 hours each day.\n",
      "\n",
      "Q = Wait a second, you said that students will be splitting their day, what does that mean?\n",
      "A = The Brooklyn STEAM Center is located on the Brooklyn Navy Yard, which is geographically separate from all of our partner high schools. Scholars in our program spend half of their school day with us and the other half at their home high school. We provide complimentary yellow bus shuttles during the middle of the day for scholars to travel between the two locations to ensure punctuality and avoid harsh weather.\n",
      "\n",
      "Q = How does this impact my high school graduation requirements?\n",
      "A = Our CTE Programs actually enable scholars to reduce their required 6 credits of LOTE (Language Other Than English) to 2 credits. In addition, we provide 13 elective credits (five more than required) on a scholar’s transcript that will heighten their GPA and stand out to colleges. In addition, we offer a bonus credit course for our internship program. Furthermore, scholars qualify for advanced annotations on their high school diplomas for the successful completion of our program.\n",
      "\n",
      "Q = This sounds great, but how much does it cost?\n",
      "A = The Brooklyn STEAM Center is operated by the New York City Department of Education, therefore as a public school, there is NO cost for scholars to attend. We cover the cost of all equipment, supplies, and fees.\n",
      "\n",
      "Q = How can I find out more about the Brooklyn STEAM Center?\n",
      "A = A typical first step is to speak to your school’s counselor. Scholars accepted into the cohort will be able to visit the Brooklyn STEAM Center, once in Grade 9 and again in Grade 10, for specific guided tours. In addition, we offer exploratory opportunities for potential applicants to ‘try it on’ with our instructors during Grade 10. We also conduct a Brooklyn Navy Yard tour to meet our business partners in Grade 9. Private tours are available upon request.\n",
      "\n",
      "Q = Do I need to be a certain “type” of student to be accepted?\n",
      "A = No. We accept students from all eight of our partner schools in an unbiased manner. We do not screen based on grades, demographics, special education, or language proficiency status. If you have concerns about a specific scholar limitation and being able to participate please let us know, we believe that anyone can learn!\n",
      "\n",
      "Q = Can Grade 11/12 students apply to the Brooklyn STEAM Center? \n",
      "A = Usually, the answer to this question would be “No”. However, with proper advocacy and support from the partner high school, there may be opportunities for scholars to enter as a Year 2 student based on availability.\n",
      "\n",
      "Q = Beyond the coursework, what else does the Brooklyn STEAM Center provide?\n",
      "A = Scholars are eligible for paid internships with one of our industry partners, prior learning credits and/or priority admission with our partner colleges, access to free testing for industry-recognized credentials, and a supportive community that is built around working with our scholars for their future.\n",
      "\n",
      "Q = How/When do I decide which CTE pathway I want to study? Can I choose more than one?\n",
      "A = You will rank all of the CTE Programs on the supplemental application that you will complete near the end of Grade 10. Scholars typically attain their first choice. Unfortunately, our programs are designed for two full years of instruction, which means you can only enroll in one program.\n",
      "\n",
      "Q = How will I know that I was accepted? Is there an orientation?\n",
      "A = The scholar, identified parent/guardian, and the respective school counselor will receive an email notification that you have been accepted that will also identify the appropriate CTE program that you can either accept or decline. Accepted scholars and their families will be invited to an orientation.\n",
      "\n",
      "Q = What should I do if I have any questions or concerns?\n",
      "A = We have two recommendations, speak to your home\n"
     ]
    }
   ],
   "source": [
    "gpt2.generate(session, prefix=\"Q = How does this impact my high school graduation requirements?\")"
   ]
  },
  {
   "cell_type": "code",
   "execution_count": 4,
   "metadata": {},
   "outputs": [
    {
     "name": "stdout",
     "output_type": "stream",
     "text": [
      "Q = Do I need to be a certain “type” of student to be accepted?\n",
      "A = No. We accept students from all eight of our partner schools in an unbiased manner. We do not screen based on grades, demographics, special education, or language proficiency status. If you have concerns about a specific scholar limitation and being able to participate please let us know, we believe that anyone can learn!\n",
      "\n",
      "Q = Can Grade 11/12 students apply to the Brooklyn STEAM Center? \n",
      "A = Usually, the answer to this question would be “No”. However, with proper advocacy and support from the partner high school, there may be opportunities for scholars to enter as a Year 2 student based on availability.\n",
      "\n",
      "Q = Beyond the coursework, what else does the Brooklyn STEAM Center provide?\n",
      "A = Scholars are eligible for paid internships with one of our industry partners, prior learning credits and/or priority admission with our partner colleges, access to free testing for industry-recognized credentials, and a supportive community that is built around working with our scholars for their future.\n",
      "\n",
      "Q = How/When do I decide which CTE pathway I want to study? Can I choose more than one?\n",
      "A = You will rank all of the CTE Programs on the supplemental application that you will complete near the end of Grade 10. Scholars typically attain their first choice. Unfortunately, our programs are designed for two full years of instruction, which means you can only enroll in one program.\n",
      "\n",
      "Q = How will I know that I was accepted? Is there an orientation?\n",
      "A = The scholar, identified parent/guardian, and the respective school counselor will receive an email notification that you have been accepted that will also identify the appropriate CTE program that you can either accept or decline. Accepted scholars and their families will be invited to an orientation.\n",
      "\n",
      "Q = What should I do if I have any questions or concerns?\n",
      "A = We have two recommendations, speak to your home high school counselor and/or email our admissions director.\n",
      "\n",
      "Q = Although I’ve graduated, can you still help me with “X”?\n",
      "A = We say, “Once STEAM, Always STEAM”, so please reach out and we will link you with a member of our team or a support service to assist you in solving your problem.\n",
      "\n",
      "Q = Does the Brooklyn STEAM Center offer anything for alumni?\n",
      "A = Yes, we want to hear from you and keep in touch, we host semi-annual alumni events, and share updates through our alumni email distribution group.\n",
      "\n",
      "Q = Can I keep learning with the Brooklyn STEAM Center as an alumni/adult?\n",
      "A = Certainly, check in with our alumni messages, which will include details about continuing education opportunities at STEAM and our partners.\n",
      "\n",
      "Q = What are the STEAM partner schools?\n",
      "A = MECPS, Bedford Academy, STAR, Global, Science skills, Westing House\n",
      "\n",
      "Q = What are the STEAM pathways?\n",
      "A = F&M, FSD, SOC, Culinary, Construction, annd Design & Engineering.\n",
      "\n",
      "Q = Do you provide I9 Verification\n",
      "A = We do not directly do it, but we do partner with the foundation and they come and help our scholars become I9 Verified.\n",
      "\n",
      "Q = What is our Moto?\n",
      "A = TEAM, STEAM. STEAM, TEAM\n",
      "\n",
      "Q = Who is the FSD Teacher?\n",
      "A = Mr. Forlenza\n",
      "\n",
      "Q = Who is the SOC Teacher?\n",
      "A = Ms. Akhter\n",
      "\n",
      "Q = Who is the Film and Media Teacher?\n",
      "A = We have two! Mr. Andrews, and Mr. Shaun\n",
      "\n",
      "Q = Who is the Principal?\n",
      "A = Dr. Pryce is the principal\n",
      "\n",
      "Q = Who are the Chefs\n",
      "A = Chef Heggie, and Cheff Nye\n",
      "\n",
      "Q = What is Tech-Squad\n",
      "A = Tech Squad is the most though provoking team that works on anything technical all throughout the facility\n",
      "\n",
      "Q = What is the Culinary Arts + Hospitality Management pathway?\n",
      "A = Scholars will study hospitality management, food science, and nutrition by developing skills like food safety and sanitation, food preparation, food and beverage management, and event planning. Certifications include NYC Food Handler License, ServSafe Food Handler Certification, and NOCTI Prep Cook. Major projects include the handling of a local food cart for public consumption and catering events for industry partners.\n",
      "\n",
      "Q = What is the Construction Technology pathway?\n",
      "A = Scholars will study carpentry, masonry, residential building and electrical, and plumbing by developing skills like using construction math, interpreting plans and drawings, using hand and power tools, and installing electrical and plumbing systems. Certifications include OSHA 30, NCCER Core, NCCER Construction Technology, and Solar One. Major projects\n"
     ]
    }
   ],
   "source": [
    "gpt2.generate(session, prefix=\"Q = Do I need to be a certain “type” of student to be accepted?\")"
   ]
  }
 ],
 "metadata": {
  "kernelspec": {
   "display_name": "Python 3",
   "language": "python",
   "name": "python3"
  },
  "language_info": {
   "codemirror_mode": {
    "name": "ipython",
    "version": 3
   },
   "file_extension": ".py",
   "mimetype": "text/x-python",
   "name": "python",
   "nbconvert_exporter": "python",
   "pygments_lexer": "ipython3",
   "version": "3.10.8"
  },
  "orig_nbformat": 4,
  "vscode": {
   "interpreter": {
    "hash": "b0fa6594d8f4cbf19f97940f81e996739fb7646882a419484c72d19e05852a7e"
   }
  }
 },
 "nbformat": 4,
 "nbformat_minor": 2
}
