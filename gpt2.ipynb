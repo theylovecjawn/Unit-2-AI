{
 "cells": [
  {
   "cell_type": "code",
   "execution_count": 1,
   "metadata": {},
   "outputs": [],
   "source": [
    "import gpt_2_simple as gpt2\n"
   ]
  },
  {
   "cell_type": "code",
   "execution_count": 5,
   "metadata": {},
   "outputs": [
    {
     "name": "stderr",
     "output_type": "stream",
     "text": [
      "Fetching checkpoint: 1.05Mit [00:00, 5.76Git/s]                                                     \n",
      "Fetching encoder.json: 1.05Mit [00:01, 659kit/s]                                                    \n",
      "Fetching hparams.json: 1.05Mit [00:00, 13.8Git/s]                                                   \n",
      "Fetching model.ckpt.data-00000-of-00001: 498Mit [15:24, 539kit/s]                                   \n",
      "Fetching model.ckpt.index: 1.05Mit [00:00, 2.89Git/s]                                               \n",
      "Fetching model.ckpt.meta: 1.05Mit [00:00, 3.41Mit/s]                                                \n",
      "Fetching vocab.bpe: 1.05Mit [00:00, 3.53Mit/s]                                                      \n"
     ]
    }
   ],
   "source": [
    "# gpt2.download_gpt2(model_name=\"124M\")"
   ]
  }
 ],
 "metadata": {
  "kernelspec": {
   "display_name": "Python 3",
   "language": "python",
   "name": "python3"
  },
  "language_info": {
   "codemirror_mode": {
    "name": "ipython",
    "version": 3
   },
   "file_extension": ".py",
   "mimetype": "text/x-python",
   "name": "python",
   "nbconvert_exporter": "python",
   "pygments_lexer": "ipython3",
   "version": "3.10.8"
  },
  "orig_nbformat": 4,
  "vscode": {
   "interpreter": {
    "hash": "b0fa6594d8f4cbf19f97940f81e996739fb7646882a419484c72d19e05852a7e"
   }
  }
 },
 "nbformat": 4,
 "nbformat_minor": 2
}
