{
 "cells": [
  {
   "cell_type": "code",
   "execution_count": 2,
   "metadata": {},
   "outputs": [],
   "source": [
    "import gpt_2_simple as gpt2\n"
   ]
  },
  {
   "cell_type": "code",
   "execution_count": 5,
   "metadata": {},
   "outputs": [
    {
     "name": "stderr",
     "output_type": "stream",
     "text": [
      "Fetching checkpoint: 1.05Mit [00:00, 5.76Git/s]                                                     \n",
      "Fetching encoder.json: 1.05Mit [00:01, 659kit/s]                                                    \n",
      "Fetching hparams.json: 1.05Mit [00:00, 13.8Git/s]                                                   \n",
      "Fetching model.ckpt.data-00000-of-00001: 498Mit [15:24, 539kit/s]                                   \n",
      "Fetching model.ckpt.index: 1.05Mit [00:00, 2.89Git/s]                                               \n",
      "Fetching model.ckpt.meta: 1.05Mit [00:00, 3.41Mit/s]                                                \n",
      "Fetching vocab.bpe: 1.05Mit [00:00, 3.53Mit/s]                                                      \n"
     ]
    }
   ],
   "source": [
    "# gpt2.download_gpt2(model_name=\"124M\")"
   ]
  },
  {
   "cell_type": "code",
   "execution_count": 18,
   "metadata": {},
   "outputs": [
    {
     "ename": "FileNotFoundError",
     "evalue": "[Errno 2] No such file or directory: 'checkpoint/run1/hparams.json'",
     "output_type": "error",
     "traceback": [
      "\u001b[0;31m---------------------------------------------------------------------------\u001b[0m",
      "\u001b[0;31mFileNotFoundError\u001b[0m                         Traceback (most recent call last)",
      "Cell \u001b[0;32mIn[18], line 2\u001b[0m\n\u001b[1;32m      1\u001b[0m session \u001b[39m=\u001b[39m gpt2\u001b[39m.\u001b[39mstart_tf_sess()\n\u001b[0;32m----> 2\u001b[0m gpt2\u001b[39m.\u001b[39;49mload_gpt2(session)\n",
      "File \u001b[0;32m~/Library/Python/3.10/lib/python/site-packages/gpt_2_simple/gpt_2.py:385\u001b[0m, in \u001b[0;36mload_gpt2\u001b[0;34m(sess, checkpoint, run_name, checkpoint_dir, model_name, model_dir, multi_gpu, reuse)\u001b[0m\n\u001b[1;32m    382\u001b[0m     checkpoint_path \u001b[39m=\u001b[39m os\u001b[39m.\u001b[39mpath\u001b[39m.\u001b[39mjoin(checkpoint_dir, run_name)\n\u001b[1;32m    384\u001b[0m hparams \u001b[39m=\u001b[39m model\u001b[39m.\u001b[39mdefault_hparams()\n\u001b[0;32m--> 385\u001b[0m \u001b[39mwith\u001b[39;00m \u001b[39mopen\u001b[39;49m(os\u001b[39m.\u001b[39;49mpath\u001b[39m.\u001b[39;49mjoin(checkpoint_path, \u001b[39m'\u001b[39;49m\u001b[39mhparams.json\u001b[39;49m\u001b[39m'\u001b[39;49m)) \u001b[39mas\u001b[39;00m f:\n\u001b[1;32m    386\u001b[0m     hparams\u001b[39m.\u001b[39moverride_from_dict(json\u001b[39m.\u001b[39mload(f))\n\u001b[1;32m    388\u001b[0m context \u001b[39m=\u001b[39m tf\u001b[39m.\u001b[39mcompat\u001b[39m.\u001b[39mv1\u001b[39m.\u001b[39mplaceholder(tf\u001b[39m.\u001b[39mint32, [\u001b[39m1\u001b[39m, \u001b[39mNone\u001b[39;00m])\n",
      "\u001b[0;31mFileNotFoundError\u001b[0m: [Errno 2] No such file or directory: 'checkpoint/run1/hparams.json'"
     ]
    }
   ],
   "source": [
    "session = gpt2.start_tf_sess()"
   ]
  },
  {
   "cell_type": "code",
   "execution_count": 19,
   "metadata": {},
   "outputs": [
    {
     "name": "stderr",
     "output_type": "stream",
     "text": [
      "2023-12-14 09:51:43.979494: I tensorflow/compiler/mlir/mlir_graph_optimization_pass.cc:388] MLIR V1 optimization pass is not enabled\n"
     ]
    },
    {
     "name": "stdout",
     "output_type": "stream",
     "text": [
      "Loading checkpoint models/124M/model.ckpt\n",
      "INFO:tensorflow:Restoring parameters from models/124M/model.ckpt\n",
      "Loading dataset...\n"
     ]
    },
    {
     "name": "stderr",
     "output_type": "stream",
     "text": [
      "100%|██████████| 1/1 [00:00<00:00,  1.47it/s]\n"
     ]
    },
    {
     "name": "stdout",
     "output_type": "stream",
     "text": [
      "dataset has 338024 tokens\n",
      "Training...\n",
      "[1 | 17.51] loss=4.33 avg=4.33\n",
      "[2 | 35.29] loss=4.02 avg=4.18\n",
      "[3 | 51.74] loss=3.65 avg=4.00\n",
      "[4 | 68.51] loss=3.80 avg=3.95\n",
      "[5 | 84.95] loss=3.79 avg=3.92\n",
      "Saving checkpoint/run1/model-5\n"
     ]
    }
   ],
   "source": [
    "gpt2.finetune(session, \"shakespeare.txt\", model_name=\"124M\", steps=5)"
   ]
  },
  {
   "cell_type": "code",
   "execution_count": 20,
   "metadata": {},
   "outputs": [
    {
     "name": "stdout",
     "output_type": "stream",
     "text": [
      "Mr. Forlenza: Thou shall not pass up thy sins, thou shalt not break thy father's neck, thou shalt not lay thy hand upon thy father's head, thou shalt not lie upon his head, thou shalt not steal his ring, thou shalt not kill him, thou shalt not kill his wife, thou shalt not murder him, thou shalt not steal his wife's children, thou shalt not kill his wife's children, thou shalt not murder his sister, thou shalt not murder her son, thou shalt not murder her sister, thou shalt not murder his brother, thy brother's brother, thy brother's brother, thy brother's brother, thy brother's brother, thy brother's brother, thy brother's brother, thy brother's brother, thy brother's brother, thy brother's brother, thy brother's brother, thy brother's brother, thy brother's brother, thy brother's brother, thy brother's brother, thy brother's brother, thy brother's brother, thy brother's brother, thy brother's brother.\n",
      "\n",
      "And when she had heard that, she said to them:\n",
      "\n",
      "Give me thy power,\n",
      "I'll give thy power,\n",
      "and thou shalt make thy father's head,\n",
      "and thy mother's head,\n",
      "and thy father's head, and thy mother's head.\n",
      "\n",
      "And they sent to him that said:\n",
      "If thou art not a man,\n",
      "if thou art not a woman,\n",
      "if thou art not a man,\n",
      "if thou art not a woman,\n",
      "if thou art not a man,\n",
      "if thou art not a woman:\n",
      "If thou art not a man,\n",
      "if thou art not a woman,\n",
      "if thou art not a man,\n",
      "if thou art not a man,\n",
      "if thou art not a man,\n",
      "if thou art not a woman,\n",
      "if thou art not a man,\n",
      "if thou art not a woman,\n",
      "if thou art not a man,\n",
      "if thou art not a woman,\n",
      "if thou art not a man,\n",
      "if thou art not a woman,\n",
      "if thou art not a man,\n",
      "if thou art not a woman,\n",
      "if thou art not a man,\n",
      "if thou art not a woman,\n",
      "if thou art not a man;\n",
      "if thou art not a man,\n",
      "if thou art not a woman,\n",
      "if thou art not a man,\n",
      "if thou art not a woman,\n",
      "if thou art not a man:\n",
      "if thou art not a man;\n",
      "if thou art not a woman,\n",
      "if thou art not a man;\n",
      "if thou art not a man,\n",
      "if thou art not a woman,\n",
      "if thou art not a man:\n",
      "He was not a man,\n",
      "\n",
      "he was a woman,\n",
      "he was a man,\n",
      "he was a woman,\n",
      "he was a man.\n",
      "\n",
      "And when he had done this,\n",
      "when he had forced his way to the promontory,\n",
      "when he had brought his wife upon him,\n",
      "when he had sent her to him,\n",
      "when he had sent his daughter to him:\n",
      "\n",
      "if thou art not a man,\n",
      "if thou art not a woman,\n",
      "if thou art not a man,\n",
      "\n",
      "if thou art not a man,\n",
      "if thou art not a woman;\n",
      "if thou art not a man,\n",
      "if thou art not a woman,\n",
      "if thou art not a man;\n",
      "if thou art not a man,\n",
      "if thou art not a woman,\n",
      "if thou art not a man;\n",
      "if thou art not a man,\n",
      "if thou art not a woman;\n",
      "if thou art not a man,\n",
      "if thou art not a woman,\n",
      "if thou art not a man:\n",
      "if thou art not a man;\n",
      "if thou art not a woman;\n",
      "if thou art not a man:\n",
      "if thou art not a man;\n",
      "if thou art not a woman;\n",
      "if thou art not a man:\n",
      "if thou art not a man,\n",
      "if thou art not a woman;\n",
      "if thou art not a man:\n",
      "if thou art not a woman,\n",
      "if thou art not a man:\n",
      "if thou art not a man;\n",
      "if thou art not a woman;\n",
      "if thou art not a man:\n",
      "if thou art not a man;\n",
      "if thou art not a woman:\n",
      "if thou art not a man;\n",
      "if thou art not a man:\n",
      "if thee art not a man:\n",
      "if thee art not a man:\n",
      "if thee art not a woman:\n",
      "if thy mother is not a man:\n",
      "if thy father is not a man:\n",
      "if thy mother is not a woman:\n",
      "if thy father is not a man:\n",
      "if thou art not a woman;\n",
      "if thy mother is not a man:\n",
      "if thy father is not a man;\n",
      "if thou art not a man;\n",
      "if thy mother is not a woman:\n",
      "if thy father is not a man:\n",
      "if thy mother is not a woman;\n"
     ]
    }
   ],
   "source": [
    "gpt2.generate(session, prefix='Mr. Forlenza: Thou shall not pass')"
   ]
  }
 ],
 "metadata": {
  "kernelspec": {
   "display_name": "Python 3",
   "language": "python",
   "name": "python3"
  },
  "language_info": {
   "codemirror_mode": {
    "name": "ipython",
    "version": 3
   },
   "file_extension": ".py",
   "mimetype": "text/x-python",
   "name": "python",
   "nbconvert_exporter": "python",
   "pygments_lexer": "ipython3",
   "version": "3.10.8 (main, Oct 13 2022, 09:48:40) [Clang 14.0.0 (clang-1400.0.29.102)]"
  },
  "orig_nbformat": 4,
  "vscode": {
   "interpreter": {
    "hash": "b0fa6594d8f4cbf19f97940f81e996739fb7646882a419484c72d19e05852a7e"
   }
  }
 },
 "nbformat": 4,
 "nbformat_minor": 2
}
